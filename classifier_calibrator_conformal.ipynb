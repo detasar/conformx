{
  "nbformat": 4,
  "nbformat_minor": 0,
  "metadata": {
    "colab": {
      "provenance": [],
      "gpuType": "T4"
    },
    "kernelspec": {
      "name": "python3",
      "display_name": "Python 3"
    },
    "language_info": {
      "name": "python"
    },
    "accelerator": "GPU"
  },
  "cells": [
    {
      "cell_type": "code",
      "source": [
        "!pip install catboost\n",
        "!pip install nonconformist"
      ],
      "metadata": {
        "id": "hnKFmSuxrYyQ"
      },
      "execution_count": null,
      "outputs": []
    },
    {
      "cell_type": "code",
      "execution_count": 4,
      "metadata": {
        "id": "XaSfAQyxQgH0"
      },
      "outputs": [],
      "source": [
        "import numpy as np\n",
        "import pandas as pd\n",
        "import logging\n",
        "from sklearn.preprocessing import MinMaxScaler, StandardScaler, KBinsDiscretizer\n",
        "from sklearn.metrics import accuracy_score, precision_score, recall_score, f1_score, roc_auc_score\n",
        "from sklearn.model_selection import GridSearchCV, RandomizedSearchCV, StratifiedKFold, cross_val_score\n",
        "from sklearn.linear_model import LogisticRegression\n",
        "from sklearn.ensemble import RandomForestClassifier, GradientBoostingClassifier, VotingClassifier\n",
        "from sklearn.svm import SVC\n",
        "from sklearn.neural_network import MLPClassifier\n",
        "from xgboost import XGBClassifier\n",
        "from catboost import CatBoostClassifier\n",
        "from sklearn.calibration import CalibratedClassifierCV\n",
        "from joblib import dump\n",
        "\n",
        "# Initialize logging\n",
        "\n"
      ]
    },
    {
      "cell_type": "code",
      "source": [
        "import xgboost as xgb\n",
        "from sklearn.calibration import CalibratedClassifierCV\n",
        "from nonconformist.cp import IcpClassifier\n",
        "from nonconformist.nc import MarginErrFunc, ClassifierNc\n",
        "\n",
        "# 1. Modeli Eğitin ve Kalibre Edin\n",
        "\n",
        "# XGBoost sınıflandırıcısını oluşturun\n",
        "clf = xgb.XGBClassifier(objective='binary:logistic', n_estimators=100)\n",
        "\n",
        "# Eğitim verisiyle modeli eğitin\n",
        "clf.fit(X_train, y_train)\n",
        "\n",
        "# Modeli kalibre edin\n",
        "calibrated_clf = CalibratedClassifierCV(clf, method='sigmoid', cv='prefit')\n",
        "calibrated_clf.fit(X_val, y_val)\n",
        "\n",
        "# 2. Conformal Prediction Uygulayın\n",
        "\n",
        "# Uygunluk puanlarını hesaplamak için nonconformist kütüphanesini kullanın\n",
        "nc = ClassifierNc(calibrated_clf, MarginErrFunc())\n",
        "icp = IcpClassifier(nc)\n",
        "\n",
        "# Eğitim ve doğrulama verisini birleştirin\n",
        "icp.fit(X_train, y_train)\n",
        "icp.calibrate(X_val, y_val)\n",
        "\n",
        "# X_test üzerinde güven aralıkları oluşturun\n",
        "predictions = icp.predict(X_test, significance=0.05)\n"
      ],
      "metadata": {
        "id": "aNOoUTrEuQP1"
      },
      "execution_count": null,
      "outputs": []
    },
    {
      "cell_type": "code",
      "source": [
        "# X_test üzerinde %95 güven seviyesinde tahminler al\n",
        "predictions = icp.predict(X_test, significance=0.05)\n",
        "\n",
        "# Tahminlerin doğru olup olmadığını kontrol edin\n",
        "correct = (predictions[:, 0] == y_test) & (predictions[:, 1] == True)\n",
        "\n",
        "# Doğru tahminlerin oranını hesaplayın\n",
        "accuracy = correct.sum() / len(y_test)\n",
        "\n",
        "# Tahminlerin genişliğini değerlendirin (eğer uygundur)\n",
        "widths = predictions[:, 2] - predictions[:, 0]\n",
        "\n",
        "average_width = widths.mean()\n",
        "\n",
        "print(f\"Accuracy at 95% confidence: {accuracy * 100:.2f}%\")\n",
        "print(f\"Average prediction interval width: {average_width:.2f}\")\n"
      ],
      "metadata": {
        "id": "ws4Zv1IguVP7"
      },
      "execution_count": null,
      "outputs": []
    },
    {
      "cell_type": "code",
      "source": [
        "# X_test üzerinde %95 güven seviyesinde tahminler al\n",
        "predictions = icp.predict(X_test, significance=0.05)\n",
        "\n",
        "# Tahminlerin yapıldığı veri noktalarının oranını hesaplayın\n",
        "prediction_coverage = (predictions[:, 1] == True).sum() / len(y_test)\n",
        "\n",
        "print(f\"Prediction coverage at 95% confidence: {prediction_coverage * 100:.2f}%\")\n"
      ],
      "metadata": {
        "id": "_goVqpKkuXVd"
      },
      "execution_count": null,
      "outputs": []
    }
  ]
}